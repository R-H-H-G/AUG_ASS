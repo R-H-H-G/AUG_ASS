{
 "cells": [
  {
   "cell_type": "markdown",
   "id": "e3065e60",
   "metadata": {},
   "source": [
    "TOPIC: String Based Assignment Problem"
   ]
  },
  {
   "cell_type": "code",
   "execution_count": 2,
   "id": "592fadee",
   "metadata": {},
   "outputs": [
    {
     "name": "stdout",
     "output_type": "stream",
     "text": [
      "PWSkills\n",
      "sllikSWP\n"
     ]
    }
   ],
   "source": [
    "# 1. Write a program to reverse a string.\n",
    "print(input()[::-1])"
   ]
  },
  {
   "cell_type": "code",
   "execution_count": 4,
   "id": "16ee3940",
   "metadata": {},
   "outputs": [
    {
     "name": "stdout",
     "output_type": "stream",
     "text": [
      "kayak\n",
      "True\n"
     ]
    }
   ],
   "source": [
    "# 2. Check if a string is a palindrome.\n",
    "a = input()\n",
    "print(a==a[::-1])"
   ]
  },
  {
   "cell_type": "code",
   "execution_count": 5,
   "id": "9fd87b69",
   "metadata": {},
   "outputs": [
    {
     "name": "stdout",
     "output_type": "stream",
     "text": [
      "rishi\n",
      "RISHI\n"
     ]
    }
   ],
   "source": [
    "# 3. Convert a string to uppercase.\n",
    "print(input().upper())"
   ]
  },
  {
   "cell_type": "code",
   "execution_count": 6,
   "id": "38b69a20",
   "metadata": {},
   "outputs": [
    {
     "name": "stdout",
     "output_type": "stream",
     "text": [
      "PWSKILLS\n",
      "pwskills\n"
     ]
    }
   ],
   "source": [
    "# 4. Convert a string to lowercase.\n",
    "print(input().lower())"
   ]
  },
  {
   "cell_type": "code",
   "execution_count": 10,
   "id": "610ff6e9",
   "metadata": {},
   "outputs": [
    {
     "name": "stdout",
     "output_type": "stream",
     "text": [
      "marvel avengers\n",
      "No.of vowels: 5\n"
     ]
    }
   ],
   "source": [
    "# 5. Count the number of vowels in a string.\n",
    "a = input()\n",
    "c = 0\n",
    "for i in a:\n",
    "    if i in [\"a\", \"e\", \"i\", \"o\", \"u\"]:\n",
    "        c+=1\n",
    "print(\"No.of vowels:\",c)"
   ]
  },
  {
   "cell_type": "code",
   "execution_count": 15,
   "id": "a2287b63",
   "metadata": {},
   "outputs": [
    {
     "name": "stdout",
     "output_type": "stream",
     "text": [
      "marvel avengers\n",
      "Number of consonants: 9\n"
     ]
    }
   ],
   "source": [
    "# 6. Count the number of consonants in a string.\n",
    "a = input()\n",
    "a = a.lower()\n",
    "a = a.replace(\" \", \"\")\n",
    "v = \"aeiou\"\n",
    "s = sum(a.count(x) for x in v)\n",
    "print(\"Number of consonants:\",len(a)-s)"
   ]
  },
  {
   "cell_type": "code",
   "execution_count": 16,
   "id": "80193adc",
   "metadata": {},
   "outputs": [
    {
     "name": "stdout",
     "output_type": "stream",
     "text": [
      "    p w skill s\n",
      "pwskills\n"
     ]
    }
   ],
   "source": [
    "# 7. Remove all whitespaces from a string.\n",
    "print(input().replace(\" \", \"\"))"
   ]
  },
  {
   "cell_type": "code",
   "execution_count": 17,
   "id": "322fa8a4",
   "metadata": {},
   "outputs": [
    {
     "name": "stdout",
     "output_type": "stream",
     "text": [
      "pwskills\n",
      "Length of string is: 8\n"
     ]
    }
   ],
   "source": [
    "# 8. Find the length of a string without using the `len()` function.\n",
    "a = input()\n",
    "c = 0 \n",
    "for i in a:\n",
    "    c+=1\n",
    "print(\"Length of string is:\", c)"
   ]
  },
  {
   "cell_type": "code",
   "execution_count": 18,
   "id": "9d3a515c",
   "metadata": {},
   "outputs": [
    {
     "name": "stdout",
     "output_type": "stream",
     "text": [
      "avengers\n",
      "ger\n",
      "True\n"
     ]
    }
   ],
   "source": [
    "# 9. Check if a string contains a specific word.\n",
    "a = input()\n",
    "sub = input()\n",
    "print(sub in a)"
   ]
  },
  {
   "cell_type": "code",
   "execution_count": 22,
   "id": "96d58224",
   "metadata": {},
   "outputs": [
    {
     "name": "stdout",
     "output_type": "stream",
     "text": [
      "wakanda\n",
      "hulk\n",
      "wahulka\n"
     ]
    }
   ],
   "source": [
    "# 10. Replace a word in a string with another word.\n",
    "a = input()\n",
    "word = input()\n",
    "print(a.replace(a[2:6], word))"
   ]
  },
  {
   "cell_type": "code",
   "execution_count": 1,
   "id": "b2ebdcfd",
   "metadata": {},
   "outputs": [
    {
     "name": "stdout",
     "output_type": "stream",
     "text": [
      "Enter a sentence:ram is a boy. ram likes mango. ram is 8 years old.\n",
      "ram\n",
      "3\n"
     ]
    }
   ],
   "source": [
    "# 11.Count the occurrences of a word in a string.\n",
    "a = input(\"Enter a sentence:\")\n",
    "w = input()\n",
    "print(a.count(w))"
   ]
  },
  {
   "cell_type": "code",
   "execution_count": 2,
   "id": "3d5fc95e",
   "metadata": {},
   "outputs": [
    {
     "name": "stdout",
     "output_type": "stream",
     "text": [
      "Enter a sentence:ram is a boy. ram likes mango. ram is 8 years old.\n",
      "ram\n",
      "0\n"
     ]
    }
   ],
   "source": [
    "# 12. Find the first occurrence of a word in a string.\n",
    "a = input(\"Enter a sentence:\")\n",
    "w = input()\n",
    "print(a.find(w))"
   ]
  },
  {
   "cell_type": "code",
   "execution_count": 5,
   "id": "263843b8",
   "metadata": {},
   "outputs": [
    {
     "name": "stdout",
     "output_type": "stream",
     "text": [
      "Enter a sentence:ram is a boy. ram likes mango. ram is 8 years old.\n",
      "ram\n",
      "31\n"
     ]
    }
   ],
   "source": [
    "# 13. Find the last occurrence of a word in a string.\n",
    "a = input(\"Enter a sentence:\")\n",
    "w = input()\n",
    "print(a.rfind(w))"
   ]
  },
  {
   "cell_type": "code",
   "execution_count": 6,
   "id": "512df015",
   "metadata": {},
   "outputs": [
    {
     "name": "stdout",
     "output_type": "stream",
     "text": [
      "Enter a sentence:ram is a boy. ram likes mango. ram is 8 years old.\n",
      "['ram', 'is', 'a', 'boy.', 'ram', 'likes', 'mango.', 'ram', 'is', '8', 'years', 'old.']\n"
     ]
    }
   ],
   "source": [
    "# 14. Split a string into a list of words.\n",
    "a = input(\"Enter a sentence:\")\n",
    "print(a.split())"
   ]
  },
  {
   "cell_type": "code",
   "execution_count": 7,
   "id": "268c3d63",
   "metadata": {},
   "outputs": [
    {
     "name": "stdout",
     "output_type": "stream",
     "text": [
      "ram is a boy. ram likes mango. ram is 8 years old.\n"
     ]
    }
   ],
   "source": [
    "# 15. Join a list of words into a string.\n",
    "a = ['ram', 'is', 'a', 'boy.', 'ram', 'likes', 'mango.', 'ram', 'is', '8', 'years', 'old.']\n",
    "print(\" \".join(a))"
   ]
  },
  {
   "cell_type": "code",
   "execution_count": 8,
   "id": "ea231b15",
   "metadata": {},
   "outputs": [
    {
     "name": "stdout",
     "output_type": "stream",
     "text": [
      "Enter a sentence:ram is a boy. ram likes mango.\n",
      "ram_is_a_boy._ram_likes_mango.\n"
     ]
    }
   ],
   "source": [
    "# 16. Convert a string where words are separated by spaces to one where words are separated by underscores.\n",
    "a = input(\"Enter a sentence:\")\n",
    "print(a.replace(\" \", \"_\"))"
   ]
  },
  {
   "cell_type": "code",
   "execution_count": 9,
   "id": "bae6ccd7",
   "metadata": {},
   "outputs": [
    {
     "name": "stdout",
     "output_type": "stream",
     "text": [
      "Enter a sentence:ram is a boy.\n",
      "True\n"
     ]
    }
   ],
   "source": [
    "# 17. Check if a string starts with a specific word or phrase.\n",
    "a = input(\"Enter a sentence:\")\n",
    "print(a.startswith(\"ram\"))"
   ]
  },
  {
   "cell_type": "code",
   "execution_count": 10,
   "id": "20106c7f",
   "metadata": {},
   "outputs": [
    {
     "name": "stdout",
     "output_type": "stream",
     "text": [
      "Enter a sentence:ram is a boy\n",
      "False\n"
     ]
    }
   ],
   "source": [
    "# 18. Check if a string ends with a specific word or phrase.\n",
    "a = input(\"Enter a sentence:\")\n",
    "print(a.endswith(\"ram\"))"
   ]
  },
  {
   "cell_type": "code",
   "execution_count": 11,
   "id": "1f781378",
   "metadata": {},
   "outputs": [
    {
     "name": "stdout",
     "output_type": "stream",
     "text": [
      "Enter a sentenceram is a boy.\n",
      "Ram Is A Boy.\n"
     ]
    }
   ],
   "source": [
    "# 19. Convert a string to title case (e.g., \"hello world\" to \"Hello World\").\n",
    "print(input(\"Enter a sentence\").title())"
   ]
  },
  {
   "cell_type": "code",
   "execution_count": 14,
   "id": "4ac534c2",
   "metadata": {},
   "outputs": [
    {
     "name": "stdout",
     "output_type": "stream",
     "text": [
      "Enter a sentence:ram is a boy and he likes banana\n",
      "banana\n"
     ]
    }
   ],
   "source": [
    "# 20. Find the longest word in a string.\n",
    "a = input(\"Enter a sentence:\").split()\n",
    "a.sort(key = lambda x: len(x), reverse = True)\n",
    "print(a[0])"
   ]
  },
  {
   "cell_type": "code",
   "execution_count": 15,
   "id": "8570047a",
   "metadata": {},
   "outputs": [
    {
     "name": "stdout",
     "output_type": "stream",
     "text": [
      "Enter a sentence:ram is a boy and he likes banana\n",
      "a\n"
     ]
    }
   ],
   "source": [
    "# 21. Find the shortest word in a string.\n",
    "a = input(\"Enter a sentence:\").split()\n",
    "a.sort(key = lambda x: len(x))\n",
    "print(a[0])"
   ]
  },
  {
   "cell_type": "code",
   "execution_count": 24,
   "id": "2435760f",
   "metadata": {},
   "outputs": [
    {
     "name": "stdout",
     "output_type": "stream",
     "text": [
      "Enter a sentence:ram is a boy and he likes banana\n",
      "banana likes he and boy a is ram\n"
     ]
    }
   ],
   "source": [
    "# 22. Reverse the order of words in a string.\n",
    "a = input(\"Enter a sentence:\").split()\n",
    "a.reverse()\n",
    "print(\" \".join(a))"
   ]
  },
  {
   "cell_type": "code",
   "execution_count": 27,
   "id": "932f841f",
   "metadata": {},
   "outputs": [
    {
     "name": "stdout",
     "output_type": "stream",
     "text": [
      "CR7\n",
      "True\n"
     ]
    }
   ],
   "source": [
    "# 23. Check if a string is alphanumeric.\n",
    "print(input().isalnum())"
   ]
  },
  {
   "cell_type": "code",
   "execution_count": 1,
   "id": "ed4bc1ff",
   "metadata": {},
   "outputs": [
    {
     "name": "stdout",
     "output_type": "stream",
     "text": [
      "marvel123aven56gers\n",
      "12356\n"
     ]
    }
   ],
   "source": [
    "# 24. Extract all digits from a string.\n",
    "a = \"\"\n",
    "for i in input():\n",
    "    if i.isdigit():\n",
    "        a+=i\n",
    "print(a)"
   ]
  },
  {
   "cell_type": "code",
   "execution_count": 2,
   "id": "83a2fbb7",
   "metadata": {},
   "outputs": [
    {
     "name": "stdout",
     "output_type": "stream",
     "text": [
      "marvel123aven56gers\n",
      "marvelavengers\n"
     ]
    }
   ],
   "source": [
    "# 25. Extract all alphabets from a string.\n",
    "a = \"\"\n",
    "for i in input():\n",
    "    if i.isalpha():\n",
    "        a+=i\n",
    "print(a)"
   ]
  },
  {
   "cell_type": "code",
   "execution_count": 3,
   "id": "23789227",
   "metadata": {},
   "outputs": [
    {
     "name": "stdout",
     "output_type": "stream",
     "text": [
      "MaRvElavENgeRs\n",
      "6\n"
     ]
    }
   ],
   "source": [
    "# 26. Count the number of uppercase letters in a string.\n",
    "a = \"\"\n",
    "for i in input():\n",
    "    if i.isupper():\n",
    "        a+=i\n",
    "print(len(a))"
   ]
  },
  {
   "cell_type": "code",
   "execution_count": 4,
   "id": "ad310097",
   "metadata": {},
   "outputs": [
    {
     "name": "stdout",
     "output_type": "stream",
     "text": [
      "MaRvElavENgeRs\n",
      "8\n"
     ]
    }
   ],
   "source": [
    "# 27. Count the number of lowercase letters in a string.\n",
    "a = \"\"\n",
    "for i in input():\n",
    "    if not i.isupper():\n",
    "        a+=i\n",
    "print(len(a))"
   ]
  },
  {
   "cell_type": "code",
   "execution_count": 6,
   "id": "1eb76845",
   "metadata": {},
   "outputs": [
    {
     "name": "stdout",
     "output_type": "stream",
     "text": [
      "MaRvElavENgeRs\n",
      "mArVeLAVenGErS\n"
     ]
    }
   ],
   "source": [
    "# 28. Swap the case of each character in a string.\n",
    "print(input().swapcase())"
   ]
  },
  {
   "cell_type": "code",
   "execution_count": 8,
   "id": "abe57789",
   "metadata": {},
   "outputs": [
    {
     "name": "stdout",
     "output_type": "stream",
     "text": [
      "Enter a sentence:ram is a boy. ram likes mango\n",
      "ram\n",
      " is a boy.  likes mango\n"
     ]
    }
   ],
   "source": [
    "# 29. Remove a specific word from a string.\n",
    "a = input(\"Enter a sentence:\")\n",
    "w = input()\n",
    "print(a.replace(w, \"\"))"
   ]
  },
  {
   "cell_type": "code",
   "execution_count": 1,
   "id": "bbb10afe",
   "metadata": {},
   "outputs": [
    {
     "name": "stdout",
     "output_type": "stream",
     "text": [
      "True\n",
      "False\n"
     ]
    }
   ],
   "source": [
    "# 30. Check if a string is a valid email address.\n",
    "import re\n",
    "\n",
    "def is_valid_email(email):\n",
    "    pattern = r'^[\\w\\.-]+@[\\w\\.-]+\\.\\w+$'\n",
    "    if re.match(pattern, email):\n",
    "        return True\n",
    "    else:\n",
    "        return False\n",
    "\n",
    "email1 = \"example@email.com\"\n",
    "email2 = \"invalid-email\"\n",
    "result1 = is_valid_email(email1)\n",
    "result2 = is_valid_email(email2)\n",
    "print(result1)\n",
    "print(result2)"
   ]
  },
  {
   "cell_type": "code",
   "execution_count": 3,
   "id": "c2f3dc28",
   "metadata": {},
   "outputs": [
    {
     "name": "stdout",
     "output_type": "stream",
     "text": [
      "Enter email address:pw@skills.com\n",
      "pw\n"
     ]
    }
   ],
   "source": [
    "# 31. Extract the username from an email address string.\n",
    "a = input(\"Enter email address:\")\n",
    "s = a.split(\"@\")\n",
    "print(s[0])"
   ]
  },
  {
   "cell_type": "code",
   "execution_count": 6,
   "id": "0c999459",
   "metadata": {},
   "outputs": [
    {
     "name": "stdout",
     "output_type": "stream",
     "text": [
      "Enter email address:pw@skills.com\n",
      "skills.com\n"
     ]
    }
   ],
   "source": [
    "# 32. Extract the domain name from an email address string.\n",
    "a = input(\"Enter email address:\")\n",
    "s = a.split(\"@\")\n",
    "print(s[1])"
   ]
  },
  {
   "cell_type": "code",
   "execution_count": 9,
   "id": "e31fa07c",
   "metadata": {},
   "outputs": [
    {
     "name": "stdout",
     "output_type": "stream",
     "text": [
      "Hello world! How are you?\n"
     ]
    }
   ],
   "source": [
    "# 33. Replace multiple spaces in a string with a single space.\n",
    "a = \"Hello     world!   How   are   you?\"\n",
    "print(\" \".join(a.split()))"
   ]
  },
  {
   "cell_type": "code",
   "execution_count": 16,
   "id": "1abac798",
   "metadata": {},
   "outputs": [
    {
     "data": {
      "text/plain": [
       "True"
      ]
     },
     "execution_count": 16,
     "metadata": {},
     "output_type": "execute_result"
    }
   ],
   "source": [
    "# 34. Check if a string is a valid URL.\n",
    "import validators\n",
    "validators.url(\"http://google.com\")"
   ]
  },
  {
   "cell_type": "code",
   "execution_count": 17,
   "id": "76bc04be",
   "metadata": {},
   "outputs": [
    {
     "name": "stdout",
     "output_type": "stream",
     "text": [
      "https\n"
     ]
    }
   ],
   "source": [
    "# 35. Extract the protocol (http or https) from a URL string.\n",
    "a = \"https://mail.google.com\"\n",
    "print(a.split(\":\")[0])"
   ]
  },
  {
   "cell_type": "code",
   "execution_count": 28,
   "id": "ccfc7da3",
   "metadata": {},
   "outputs": [
    {
     "name": "stdout",
     "output_type": "stream",
     "text": [
      "h : 1\n",
      "e : 1\n",
      "l : 3\n",
      "o : 2\n",
      "  : 1\n",
      "w : 1\n",
      "r : 1\n",
      "d : 1\n"
     ]
    }
   ],
   "source": [
    "# 36. Find the frequency of each character in a string.\n",
    "import collections\n",
    "a = \"hello world\"\n",
    "c = (dict(collections.Counter(a)))\n",
    "for k, v in c.items():\n",
    "    print(f\"{k} : {v}\")"
   ]
  },
  {
   "cell_type": "code",
   "execution_count": 35,
   "id": "6ab8b46d",
   "metadata": {},
   "outputs": [
    {
     "name": "stdout",
     "output_type": "stream",
     "text": [
      "Hello world Hows it going\n"
     ]
    }
   ],
   "source": [
    "# 37. Remove all punctuation from a string.\n",
    "import string\n",
    "a = \"Hello, world! How's it going?\"\n",
    "print(\"\".join([x for x in a if x not in string.punctuation]))"
   ]
  },
  {
   "cell_type": "code",
   "execution_count": 38,
   "id": "795ee321",
   "metadata": {},
   "outputs": [
    {
     "data": {
      "text/plain": [
       "True"
      ]
     },
     "execution_count": 38,
     "metadata": {},
     "output_type": "execute_result"
    }
   ],
   "source": [
    "# 38. Check if a string contains only digits.\n",
    "a = \"493943952\"\n",
    "a.isdigit()"
   ]
  },
  {
   "cell_type": "code",
   "execution_count": 40,
   "id": "1bf53804",
   "metadata": {},
   "outputs": [
    {
     "data": {
      "text/plain": [
       "True"
      ]
     },
     "execution_count": 40,
     "metadata": {},
     "output_type": "execute_result"
    }
   ],
   "source": [
    "# 39. Check if a string contains only alphabets.\n",
    "a = \"helloworld\"\n",
    "a.isalpha()"
   ]
  },
  {
   "cell_type": "code",
   "execution_count": 42,
   "id": "bbdaf18b",
   "metadata": {},
   "outputs": [
    {
     "name": "stdout",
     "output_type": "stream",
     "text": [
      "ram is 8 years old\n",
      "['r', 'a', 'm', ' ', 'i', 's', ' ', '8', ' ', 'y', 'e', 'a', 'r', 's', ' ', 'o', 'l', 'd']\n"
     ]
    }
   ],
   "source": [
    "# 40. Convert a string to a list of characters.\n",
    "print([x for x in input()])"
   ]
  },
  {
   "cell_type": "code",
   "execution_count": 55,
   "id": "a0594191",
   "metadata": {},
   "outputs": [
    {
     "name": "stdout",
     "output_type": "stream",
     "text": [
      "True\n",
      "False\n"
     ]
    }
   ],
   "source": [
    "# 41. Check if two strings are anagrams.\n",
    "from collections import Counter\n",
    "a = \"silent\"\n",
    "b = \"listen\"\n",
    "str1 = \"hello\"\n",
    "str2 = \"world\"\n",
    "print(dict(Counter(a)) == dict(Counter(b)))\n",
    "print(dict(Counter(str1)) == dict(Counter(str2)))"
   ]
  },
  {
   "cell_type": "code",
   "execution_count": 82,
   "id": "4d2333ad",
   "metadata": {},
   "outputs": [],
   "source": [
    "# 42. Encode a string using a Caesar cipher.\n",
    "import string\n",
    "def caesar(txt, shift):\n",
    "    a = string.ascii_uppercase\n",
    "    s = a[shift:] + a[:shift]\n",
    "    d = \"\"\n",
    "    for i in txt.upper():\n",
    "        if i in a:\n",
    "            d+=s[a.index(i)]\n",
    "        else:\n",
    "            d+=i\n",
    "    return d.title()"
   ]
  },
  {
   "cell_type": "code",
   "execution_count": 83,
   "id": "cae1b7b2",
   "metadata": {},
   "outputs": [
    {
     "data": {
      "text/plain": [
       "'Khoor, Zruog!'"
      ]
     },
     "execution_count": 83,
     "metadata": {},
     "output_type": "execute_result"
    }
   ],
   "source": [
    "caesar(\"Hello, world!\", 3)"
   ]
  },
  {
   "cell_type": "code",
   "execution_count": 85,
   "id": "5dbe7e78",
   "metadata": {},
   "outputs": [],
   "source": [
    "# 43. Decode a Caesar cipher encoded string.\n",
    "import string\n",
    "def caesar_dic(txt, shift):\n",
    "    a = string.ascii_uppercase\n",
    "    s = a[shift:] + a[:shift]\n",
    "    d = \"\"\n",
    "    for i in txt.upper():\n",
    "        if i in a:\n",
    "            d+=a[s.index(i)]\n",
    "        else:\n",
    "            d+=i\n",
    "    return d.title()"
   ]
  },
  {
   "cell_type": "code",
   "execution_count": 86,
   "id": "2da0e2a6",
   "metadata": {},
   "outputs": [
    {
     "data": {
      "text/plain": [
       "'Hello, World!'"
      ]
     },
     "execution_count": 86,
     "metadata": {},
     "output_type": "execute_result"
    }
   ],
   "source": [
    "caesar_dic('Khoor, Zruog!', 3)"
   ]
  },
  {
   "cell_type": "code",
   "execution_count": 91,
   "id": "07757867",
   "metadata": {},
   "outputs": [
    {
     "name": "stdout",
     "output_type": "stream",
     "text": [
      "Most frequent word : hello\n"
     ]
    }
   ],
   "source": [
    "# 44. Find the most frequent word in a string.\n",
    "import collections\n",
    "a = \"Hello world, hello there! How's the world?\"\n",
    "c = dict(collections.Counter((a.lower()).split()))\n",
    "print(f\"Most frequent word : {list(c)[0]}\")"
   ]
  },
  {
   "cell_type": "code",
   "execution_count": 94,
   "id": "a93b3f56",
   "metadata": {},
   "outputs": [
    {
     "name": "stdout",
     "output_type": "stream",
     "text": [
      "Unique words in a string : ['world,', 'there!', \"how's\", 'the', 'world?']\n"
     ]
    }
   ],
   "source": [
    "# 45. Find all unique words in a string.\n",
    "a = \"Hello world, hello there! How's the world?\"\n",
    "c = dict(collections.Counter((a.lower()).split()))\n",
    "d = []\n",
    "for k, v in c.items():\n",
    "    if c[k]==1:\n",
    "        d.append(k)\n",
    "print(f\"Unique words in a string : {d}\")"
   ]
  },
  {
   "cell_type": "code",
   "execution_count": 95,
   "id": "1a432fb5",
   "metadata": {},
   "outputs": [
    {
     "name": "stdout",
     "output_type": "stream",
     "text": [
      "'hello' has 2 syllables.\n",
      "'banana' has 3 syllables.\n",
      "'syllable' has 3 syllables.\n"
     ]
    }
   ],
   "source": [
    "# 46. Count the number of syllables in a string.\n",
    "import re\n",
    "\n",
    "def count_syllables(word):\n",
    "    \n",
    "    vowel_groups = re.findall(r'[aeiouy]+', word, re.IGNORECASE)\n",
    "\n",
    "    return len(vowel_groups)\n",
    "\n",
    "word1 = \"hello\"\n",
    "word2 = \"banana\"\n",
    "word3 = \"syllable\"\n",
    "\n",
    "syllables1 = count_syllables(word1)\n",
    "syllables2 = count_syllables(word2)\n",
    "syllables3 = count_syllables(word3)\n",
    "\n",
    "print(f\"'{word1}' has {syllables1} syllables.\")\n",
    "print(f\"'{word2}' has {syllables2} syllables.\")\n",
    "print(f\"'{word3}' has {syllables3} syllables.\")"
   ]
  },
  {
   "cell_type": "code",
   "execution_count": 98,
   "id": "26820a94",
   "metadata": {},
   "outputs": [
    {
     "name": "stdout",
     "output_type": "stream",
     "text": [
      "String contains any special characters : True\n",
      "String contains any special characters : True\n"
     ]
    }
   ],
   "source": [
    "# 47. Check if a string contains any special characters.\n",
    "str2 = \"This is a test.\"\n",
    "str3 = \"Special@Characters\"\n",
    "def sss(txt):\n",
    "    a = [x for x in txt if not x.isalnum()]\n",
    "    return a\n",
    "a = sss(str2)\n",
    "b = sss(str3)\n",
    "print(f\"String contains any special characters : {a!=None}\")\n",
    "print(f\"String contains any special characters : {b!=None}\")"
   ]
  },
  {
   "cell_type": "code",
   "execution_count": 103,
   "id": "f4751324",
   "metadata": {},
   "outputs": [
    {
     "name": "stdout",
     "output_type": "stream",
     "text": [
      "This is an example sentence to test the function.\n",
      "4\n",
      "This is an sentence to test the function.\n"
     ]
    }
   ],
   "source": [
    "# 48. Remove the nth word from a string.\n",
    "x = input().split()\n",
    "x.remove(x[int(input())-1])\n",
    "print(\" \".join(x))"
   ]
  },
  {
   "cell_type": "code",
   "execution_count": 109,
   "id": "006bf3fe",
   "metadata": {},
   "outputs": [
    {
     "name": "stdout",
     "output_type": "stream",
     "text": [
      "4\n",
      "This is an example sentence to test the function.\n"
     ]
    }
   ],
   "source": [
    "# 50. Insert a word at the nth position in a string.\n",
    "a = \"This is an sentence to test the function.\".split()\n",
    "a.insert(int(input())-1, \"example\")\n",
    "print(\" \".join(a))"
   ]
  },
  {
   "cell_type": "markdown",
   "id": "e47aa365",
   "metadata": {},
   "source": [
    "List Based Practice Problem :"
   ]
  },
  {
   "cell_type": "code",
   "execution_count": 1,
   "id": "a262f766",
   "metadata": {},
   "outputs": [
    {
     "name": "stdout",
     "output_type": "stream",
     "text": [
      "[1, 2, 3, 4, 5, 6, 7, 8, 9, 10]\n"
     ]
    }
   ],
   "source": [
    "# 1. Create a list with integers from 1 to 10.\n",
    "print(list(range(1, 11)))"
   ]
  },
  {
   "cell_type": "code",
   "execution_count": 2,
   "id": "43a6158c",
   "metadata": {},
   "outputs": [
    {
     "name": "stdout",
     "output_type": "stream",
     "text": [
      "6\n"
     ]
    }
   ],
   "source": [
    "# 2. Find the length of a list without using the `len()` function.\n",
    "c = 0\n",
    "a = [1, 2, 3, 4, 5, 6]\n",
    "for i in a:\n",
    "    c+=1\n",
    "print(c)"
   ]
  },
  {
   "cell_type": "code",
   "execution_count": 7,
   "id": "812d922f",
   "metadata": {},
   "outputs": [
    {
     "data": {
      "text/plain": [
       "[1, 2, 3, 4, 5, 6, 7]"
      ]
     },
     "execution_count": 7,
     "metadata": {},
     "output_type": "execute_result"
    }
   ],
   "source": [
    "# 3. Append an element to the end of a list.\n",
    "c = (list(range(1,7)))\n",
    "c.append(7)\n",
    "c"
   ]
  },
  {
   "cell_type": "code",
   "execution_count": 10,
   "id": "0c75c2fb",
   "metadata": {},
   "outputs": [
    {
     "data": {
      "text/plain": [
       "[1, 2, 3, 4]"
      ]
     },
     "execution_count": 10,
     "metadata": {},
     "output_type": "execute_result"
    }
   ],
   "source": [
    "# 4. Insert an element at a specific index in a list.\n",
    "c = [1, 3, 4]\n",
    "c.insert(1, 2)\n",
    "c"
   ]
  },
  {
   "cell_type": "code",
   "execution_count": 11,
   "id": "73f34656",
   "metadata": {},
   "outputs": [
    {
     "data": {
      "text/plain": [
       "['apple', 'banana']"
      ]
     },
     "execution_count": 11,
     "metadata": {},
     "output_type": "execute_result"
    }
   ],
   "source": [
    "# 5. Remove an element from a list by its value.\n",
    "fruits = ['apple', 'banana', 'cherry']\n",
    "fruits.remove(\"cherry\")\n",
    "fruits"
   ]
  },
  {
   "cell_type": "code",
   "execution_count": 12,
   "id": "a45807d5",
   "metadata": {},
   "outputs": [
    {
     "data": {
      "text/plain": [
       "['mango', 'banana']"
      ]
     },
     "execution_count": 12,
     "metadata": {},
     "output_type": "execute_result"
    }
   ],
   "source": [
    "# 6. Remove an element from a list by its index.\n",
    "a = [\"mango\", \"apple\", \"banana\"]\n",
    "a.pop(1)\n",
    "a"
   ]
  },
  {
   "cell_type": "code",
   "execution_count": 13,
   "id": "af08bd8d",
   "metadata": {},
   "outputs": [
    {
     "name": "stdout",
     "output_type": "stream",
     "text": [
      "False\n"
     ]
    }
   ],
   "source": [
    "# 7. Check if an element exists in a list.\n",
    "a = [\"mango\", \"apple\", \"banana\"]\n",
    "print(\"papaya\" in a)"
   ]
  },
  {
   "cell_type": "code",
   "execution_count": 14,
   "id": "deecf777",
   "metadata": {},
   "outputs": [
    {
     "name": "stdout",
     "output_type": "stream",
     "text": [
      "0\n"
     ]
    }
   ],
   "source": [
    "# 8. Find the index of the first occurrence of an element in a list.\n",
    "a = [\"mango\", \"apple\", \"banana\", \"mango\", \"apple\"]\n",
    "print(a.index(\"mango\"))"
   ]
  },
  {
   "cell_type": "code",
   "execution_count": 22,
   "id": "e423c494",
   "metadata": {},
   "outputs": [
    {
     "data": {
      "text/plain": [
       "{'mango': 2, 'apple': 2, 'banana': 1}"
      ]
     },
     "execution_count": 22,
     "metadata": {},
     "output_type": "execute_result"
    }
   ],
   "source": [
    "# 9. Count the occurrences of an element in a list.\n",
    "import collections\n",
    "a = [\"mango\", \"apple\", \"banana\", \"mango\", \"apple\"]\n",
    "c = collections.Counter(a)\n",
    "dict(c)"
   ]
  },
  {
   "cell_type": "code",
   "execution_count": 25,
   "id": "9f5ff2b7",
   "metadata": {},
   "outputs": [
    {
     "data": {
      "text/plain": [
       "['apple', 'mango', 'banana', 'apple', 'mango']"
      ]
     },
     "execution_count": 25,
     "metadata": {},
     "output_type": "execute_result"
    }
   ],
   "source": [
    "# 10. Reverse the order of elements in a list.\n",
    "a = [\"mango\", \"apple\", \"banana\", \"mango\", \"apple\"]\n",
    "a.reverse()\n",
    "a"
   ]
  },
  {
   "cell_type": "code",
   "execution_count": 26,
   "id": "753f5f91",
   "metadata": {},
   "outputs": [
    {
     "data": {
      "text/plain": [
       "[1, 2, 3, 4, 5, 6, 7, 8]"
      ]
     },
     "execution_count": 26,
     "metadata": {},
     "output_type": "execute_result"
    }
   ],
   "source": [
    "# 11. Sort a list in ascending order.\n",
    "a = [8, 7, 6, 5, 4, 3, 2, 1]\n",
    "a.sort()\n",
    "a"
   ]
  },
  {
   "cell_type": "code",
   "execution_count": 27,
   "id": "412ecae7",
   "metadata": {},
   "outputs": [
    {
     "data": {
      "text/plain": [
       "[8, 7, 6, 5, 4, 3, 2, 1]"
      ]
     },
     "execution_count": 27,
     "metadata": {},
     "output_type": "execute_result"
    }
   ],
   "source": [
    "# 12. Sort a list in descending order.\n",
    "a = [1, 2, 3, 4, 5, 6, 7, 8]\n",
    "a.sort(reverse = True)\n",
    "a"
   ]
  },
  {
   "cell_type": "code",
   "execution_count": 28,
   "id": "9bd80fd2",
   "metadata": {},
   "outputs": [
    {
     "data": {
      "text/plain": [
       "[2, 4, 6, 8, 10, 12, 14, 16, 18, 20]"
      ]
     },
     "execution_count": 28,
     "metadata": {},
     "output_type": "execute_result"
    }
   ],
   "source": [
    "# 13. Create a list of even numbers from 1 to 20.\n",
    "a = [x for x in range(1, 21) if x%2==0]\n",
    "a"
   ]
  },
  {
   "cell_type": "code",
   "execution_count": 29,
   "id": "f6cd48dd",
   "metadata": {},
   "outputs": [
    {
     "data": {
      "text/plain": [
       "[1, 3, 5, 7, 9, 11, 13, 15, 17, 19]"
      ]
     },
     "execution_count": 29,
     "metadata": {},
     "output_type": "execute_result"
    }
   ],
   "source": [
    "# 14. Create a list of odd numbers from 1 to 20.\n",
    "a = [x for x in range(1, 21) if x%2!=0]\n",
    "a"
   ]
  },
  {
   "cell_type": "code",
   "execution_count": 30,
   "id": "c81bf0a4",
   "metadata": {},
   "outputs": [
    {
     "name": "stdout",
     "output_type": "stream",
     "text": [
      "36\n"
     ]
    }
   ],
   "source": [
    "# 15. Find the sum of all elements in a list.\n",
    "a = [1, 2, 3, 4, 5, 6, 7, 8]\n",
    "print(sum(a))"
   ]
  },
  {
   "cell_type": "code",
   "execution_count": 31,
   "id": "9e6c97e0",
   "metadata": {},
   "outputs": [
    {
     "name": "stdout",
     "output_type": "stream",
     "text": [
      "8\n"
     ]
    }
   ],
   "source": [
    "# 16. Find the maximum value in a list.\n",
    "a = [1, 2, 3, 4, 5, 6, 7, 8]\n",
    "print(max(a))"
   ]
  },
  {
   "cell_type": "code",
   "execution_count": 32,
   "id": "3a742b49",
   "metadata": {},
   "outputs": [
    {
     "name": "stdout",
     "output_type": "stream",
     "text": [
      "1\n"
     ]
    }
   ],
   "source": [
    "# 17. Find the minimum value in a list.\n",
    "a = [1, 2, 3, 4, 5, 6, 7, 8]\n",
    "print(min(a))"
   ]
  },
  {
   "cell_type": "code",
   "execution_count": 33,
   "id": "cfceb130",
   "metadata": {},
   "outputs": [
    {
     "data": {
      "text/plain": [
       "[1, 4, 9, 16, 25, 36, 49, 64, 81, 100]"
      ]
     },
     "execution_count": 33,
     "metadata": {},
     "output_type": "execute_result"
    }
   ],
   "source": [
    "# 18. Create a list of squares of numbers from 1 to 10.\n",
    "a = [x**2 for x in range(1, 11)]\n",
    "a"
   ]
  },
  {
   "cell_type": "code",
   "execution_count": 47,
   "id": "7dff27b0",
   "metadata": {},
   "outputs": [
    {
     "data": {
      "text/plain": [
       "[6, 8, 7, 3, 13, 9, 15, 5, 4, 16]"
      ]
     },
     "execution_count": 47,
     "metadata": {},
     "output_type": "execute_result"
    }
   ],
   "source": [
    "# 19. Create a list of random numbers.\n",
    "import random\n",
    "a = random.sample(range(1, 17), 10)\n",
    "a"
   ]
  },
  {
   "cell_type": "code",
   "execution_count": 48,
   "id": "073977e9",
   "metadata": {},
   "outputs": [
    {
     "data": {
      "text/plain": [
       "[1, 2, 3, 4, 5, 6, 7, 8]"
      ]
     },
     "execution_count": 48,
     "metadata": {},
     "output_type": "execute_result"
    }
   ],
   "source": [
    "# 20. Remove duplicates from a list.\n",
    "a = [1,3,4,4,3,5,6,7,1,2,2,8,5,8]\n",
    "list(set(a))"
   ]
  },
  {
   "cell_type": "code",
   "execution_count": 50,
   "id": "c1177f97",
   "metadata": {},
   "outputs": [
    {
     "name": "stdout",
     "output_type": "stream",
     "text": [
      "[70, 40, 10, 50, 20, 60, 30]\n"
     ]
    }
   ],
   "source": [
    "# 21. Find the common elements between two lists.\n",
    "l1 = [10, 20, 30, 40, 50]\n",
    "l2 = [30, 40, 50, 60, 70]\n",
    "print(list(set(l1).union(set(l2))))"
   ]
  },
  {
   "cell_type": "code",
   "execution_count": 51,
   "id": "2bd99ef9",
   "metadata": {},
   "outputs": [
    {
     "name": "stdout",
     "output_type": "stream",
     "text": [
      "[10, 20]\n"
     ]
    }
   ],
   "source": [
    "# 22. Find the difference between two lists.\n",
    "l1 = [10, 20, 30, 40, 50]\n",
    "l2 = [30, 40, 50, 60, 70]\n",
    "print(list(set(l1).difference(set(l2))))"
   ]
  },
  {
   "cell_type": "code",
   "execution_count": 53,
   "id": "5d6b8f50",
   "metadata": {},
   "outputs": [
    {
     "data": {
      "text/plain": [
       "[10, 20, 50, 30, 40, 60, 70]"
      ]
     },
     "execution_count": 53,
     "metadata": {},
     "output_type": "execute_result"
    }
   ],
   "source": [
    "# 23. Merge two lists.\n",
    "l1 = [10, 20, 50]\n",
    "l2 = [30, 40, 60, 70]\n",
    "l1.extend(l2)\n",
    "l1"
   ]
  },
  {
   "cell_type": "code",
   "execution_count": 54,
   "id": "5a5d6eb5",
   "metadata": {},
   "outputs": [
    {
     "name": "stdout",
     "output_type": "stream",
     "text": [
      "[20, 40, 100, 60, 80, 120, 140]\n"
     ]
    }
   ],
   "source": [
    "# 24. Multiply all elements in a list by 2.\n",
    "a = [10, 20, 50, 30, 40, 60, 70]\n",
    "print([x*2 for x in a])"
   ]
  },
  {
   "cell_type": "code",
   "execution_count": 55,
   "id": "600e768d",
   "metadata": {},
   "outputs": [
    {
     "name": "stdout",
     "output_type": "stream",
     "text": [
      "[1, 3, 5, 7]\n"
     ]
    }
   ],
   "source": [
    "# 25. Filter out all even numbers from a list.\n",
    "a = [1, 2, 3, 4, 5, 6, 7, 8]\n",
    "print([x for x in a if x%2!=0])"
   ]
  },
  {
   "cell_type": "code",
   "execution_count": 57,
   "id": "c71f3039",
   "metadata": {},
   "outputs": [
    {
     "name": "stdout",
     "output_type": "stream",
     "text": [
      "[10, 20, 30, 40, 50]\n"
     ]
    }
   ],
   "source": [
    "# 26. Convert a list of strings to a list of integers\n",
    "string_list = [\"10\", \"20\", \"30\", \"40\", \"50\"]\n",
    "print([int(x) for x in string_list])"
   ]
  },
  {
   "cell_type": "code",
   "execution_count": 58,
   "id": "4da06b9e",
   "metadata": {},
   "outputs": [
    {
     "name": "stdout",
     "output_type": "stream",
     "text": [
      "['10', '20', '30', '40', '50']\n"
     ]
    }
   ],
   "source": [
    "# 27. Convert a list of integers to a list of strings.\n",
    "string_list = [\"10\", \"20\", \"30\", \"40\", \"50\"]\n",
    "print([str(x) for x in string_list])"
   ]
  },
  {
   "cell_type": "code",
   "execution_count": 59,
   "id": "8f81ac53",
   "metadata": {},
   "outputs": [
    {
     "name": "stdout",
     "output_type": "stream",
     "text": [
      "[1, 2, 3, 4, 5, 6, 7, 8, 9]\n"
     ]
    }
   ],
   "source": [
    "# 28. Flatten a nested list.\n",
    "t = [[1, 2, 3], [4, 5], [6, 7, 8, 9]]\n",
    "print(sum(t, []))"
   ]
  },
  {
   "cell_type": "code",
   "execution_count": 1,
   "id": "eabcbdde",
   "metadata": {},
   "outputs": [
    {
     "data": {
      "text/plain": [
       "55"
      ]
     },
     "execution_count": 1,
     "metadata": {},
     "output_type": "execute_result"
    }
   ],
   "source": [
    "# 29. Create a list of the first 10 Fibonacci numbers.\n",
    "def fibo(n):\n",
    "    if n<=1:\n",
    "        return n\n",
    "    else:\n",
    "        return fibo(n-1) + fibo(n-2)\n",
    "fibo(10)"
   ]
  },
  {
   "cell_type": "code",
   "execution_count": 3,
   "id": "cc8b819c",
   "metadata": {},
   "outputs": [
    {
     "name": "stdout",
     "output_type": "stream",
     "text": [
      "True\n"
     ]
    }
   ],
   "source": [
    "# 30. Check if a list is sorted.\n",
    "a = [1, 2, 3, 4, 5, 6, 7, 8, 9]\n",
    "print(a == sorted(a))"
   ]
  },
  {
   "cell_type": "code",
   "execution_count": 11,
   "id": "9fb9b3ae",
   "metadata": {},
   "outputs": [
    {
     "name": "stdout",
     "output_type": "stream",
     "text": [
      "3\n",
      "Original list: [1, 2, 3, 4, 5, 6, 7, 8, 9]\n",
      "[4, 5, 6, 7, 8, 9, 1, 2, 3]\n"
     ]
    }
   ],
   "source": [
    "# 31. Rotate a list to the left by `n` positions.\n",
    "a = [1, 2, 3, 4, 5, 6, 7, 8, 9]\n",
    "n = int(input())\n",
    "s = a[n:] + a[:n]\n",
    "print(\"Original list:\", a)\n",
    "print(s)"
   ]
  },
  {
   "cell_type": "code",
   "execution_count": 12,
   "id": "681f204a",
   "metadata": {},
   "outputs": [
    {
     "name": "stdout",
     "output_type": "stream",
     "text": [
      "3\n",
      "Original list: [1, 2, 3, 4, 5, 6, 7, 8, 9]\n",
      "[7, 8, 9, 1, 2, 3, 4, 5, 6]\n"
     ]
    }
   ],
   "source": [
    "# 32. Rotate a list to the right by `n` positions.\n",
    "a = [1, 2, 3, 4, 5, 6, 7, 8, 9]\n",
    "n = int(input())\n",
    "s = a[-n:] + a[:-n] \n",
    "print(\"Original list:\", a)\n",
    "print(s)"
   ]
  },
  {
   "cell_type": "code",
   "execution_count": 56,
   "id": "81c90ef0",
   "metadata": {},
   "outputs": [
    {
     "data": {
      "text/plain": [
       "[2, 3, 5, 7, 11, 13, 17, 19, 23, 29, 31, 37, 41, 43, 47]"
      ]
     },
     "execution_count": 56,
     "metadata": {},
     "output_type": "execute_result"
    }
   ],
   "source": [
    "# 33. Create a list of prime numbers up to 50.\n",
    "def pri(n):\n",
    "    import math\n",
    "    a = []\n",
    "    for num in range(2, n+1):\n",
    "        if all(num%i!=0 for i in range(2,int(math.sqrt(num))+1)):\n",
    "               a.append(num)\n",
    "    return a\n",
    "pri(50)"
   ]
  },
  {
   "cell_type": "code",
   "execution_count": 14,
   "id": "7e434ecc",
   "metadata": {},
   "outputs": [
    {
     "data": {
      "text/plain": [
       "[[10, 5], [20, 15], [30, 25]]"
      ]
     },
     "execution_count": 14,
     "metadata": {},
     "output_type": "execute_result"
    }
   ],
   "source": [
    "# 34. Split a list into chunks of size `n`.\n",
    "t = [10, 5, 20, 15, 30, 25]\n",
    "n = 2\n",
    "x = [t[i:i+n] for i in range(0, len(t), n)]\n",
    "x    "
   ]
  },
  {
   "cell_type": "code",
   "execution_count": 1,
   "id": "d352ed5f",
   "metadata": {},
   "outputs": [
    {
     "name": "stdout",
     "output_type": "stream",
     "text": [
      "Second largest number: 25\n"
     ]
    }
   ],
   "source": [
    "# 35. Find the second largest number in a list.\n",
    "\n",
    "\n",
    "my_list = [10, 5, 20, 15, 30, 25]\n",
    "\n",
    "\n",
    "sorted_list = sorted(set(my_list))\n",
    "\n",
    "\n",
    "if len(sorted_list) >= 2:\n",
    "    second_largest = sorted_list[-2]\n",
    "    print(\"Second largest number:\", second_largest)\n",
    "else:\n",
    "    print(\"The list does not contain enough elements.\")"
   ]
  },
  {
   "cell_type": "code",
   "execution_count": 15,
   "id": "d0da7a4b",
   "metadata": {},
   "outputs": [
    {
     "data": {
      "text/plain": [
       "[100, 25, 400, 225, 900, 625]"
      ]
     },
     "execution_count": 15,
     "metadata": {},
     "output_type": "execute_result"
    }
   ],
   "source": [
    "# 36. Replace every element in a list with its square.\n",
    "t = [10, 5, 20, 15, 30, 25]\n",
    "a = [x**2 for x in t]\n",
    "a"
   ]
  },
  {
   "cell_type": "code",
   "execution_count": 20,
   "id": "e9880cb7",
   "metadata": {},
   "outputs": [
    {
     "data": {
      "text/plain": [
       "{'apple': 0, 'banana': 1, 'cherry': 2, 'date': 3, 'elderberry': 4}"
      ]
     },
     "execution_count": 20,
     "metadata": {},
     "output_type": "execute_result"
    }
   ],
   "source": [
    "# 37. Convert a list to a dictionary where list elements become keys and their indices become values.\n",
    "t = ['apple', 'banana', 'cherry', 'date', 'elderberry']\n",
    "s = {}\n",
    "for k in t:\n",
    "    s[k] = t.index(k)\n",
    "s"
   ]
  },
  {
   "cell_type": "code",
   "execution_count": 21,
   "id": "bbb81b2f",
   "metadata": {},
   "outputs": [
    {
     "name": "stdout",
     "output_type": "stream",
     "text": [
      "Shuffled list: [10, 6, 1, 8, 7, 9, 5, 4, 3, 2]\n"
     ]
    }
   ],
   "source": [
    "# 38. Shuffle the elements of a list randomly.\n",
    "import random\n",
    "\n",
    "# Example list\n",
    "my_list = [1, 2, 3, 4, 5, 6, 7, 8, 9, 10]\n",
    "\n",
    "# Shuffle the list randomly\n",
    "random.shuffle(my_list)\n",
    "\n",
    "# Print the shuffled list\n",
    "print(\"Shuffled list:\", my_list)"
   ]
  },
  {
   "cell_type": "code",
   "execution_count": 24,
   "id": "0286df9e",
   "metadata": {},
   "outputs": [
    {
     "data": {
      "text/plain": [
       "[1, 1, 2, 6, 24, 120, 720, 5040, 40320, 362880]"
      ]
     },
     "execution_count": 24,
     "metadata": {},
     "output_type": "execute_result"
    }
   ],
   "source": [
    "# 39. Create a list of the first 10 factorial numbers\n",
    "def fact(n):\n",
    "    if n<=1:\n",
    "        return 1\n",
    "    else:\n",
    "        return n*fact(n-1)\n",
    "a = [fact(i) for i in range(10)]\n",
    "a"
   ]
  },
  {
   "cell_type": "code",
   "execution_count": 26,
   "id": "f3fe568e",
   "metadata": {},
   "outputs": [
    {
     "name": "stdout",
     "output_type": "stream",
     "text": [
      "The lists have at least one common element.\n"
     ]
    }
   ],
   "source": [
    "# 40. Check if two lists have at least one element in common.\n",
    "\n",
    "def has_common_element(list1, list2):\n",
    "    for item in list1:\n",
    "        if item in list2:\n",
    "            return True\n",
    "    return False\n",
    "\n",
    "# Example lists\n",
    "list1 = [1, 2, 3, 4, 5]\n",
    "list2 = [4, 5, 6, 7, 8]\n",
    "\n",
    "# Check if the two lists have at least one element in common\n",
    "if has_common_element(list1, list2):\n",
    "    print(\"The lists have at least one common element.\")\n",
    "else:\n",
    "    print(\"The lists do not have any common elements.\")"
   ]
  },
  {
   "cell_type": "code",
   "execution_count": 27,
   "id": "7e31845b",
   "metadata": {},
   "outputs": [
    {
     "name": "stdout",
     "output_type": "stream",
     "text": [
      "Empty list: []\n"
     ]
    }
   ],
   "source": [
    "# 41. Remove all elements from a list.\n",
    "my_list = [1, 2, 3, 4, 5]\n",
    "\n",
    "# Clear all elements from the list\n",
    "my_list.clear()\n",
    "\n",
    "# Print the empty list\n",
    "print(\"Empty list:\", my_list)"
   ]
  },
  {
   "cell_type": "code",
   "execution_count": 28,
   "id": "578edc56",
   "metadata": {},
   "outputs": [
    {
     "name": "stdout",
     "output_type": "stream",
     "text": [
      "List after replacing negative numbers with 0: [10, 0, 20, 0, 30, 0]\n"
     ]
    }
   ],
   "source": [
    "# 42\n",
    "my_list = [10, -5, 20, -15, 30, -25]\n",
    "\n",
    "# Step 1: Iterate through the list and replace negative numbers with 0\n",
    "for i in range(len(my_list)):\n",
    "    if my_list[i] < 0:\n",
    "        my_list[i] = 0\n",
    "\n",
    "# Print the list after replacing negative numbers with 0\n",
    "print(\"List after replacing negative numbers with 0:\", my_list)"
   ]
  },
  {
   "cell_type": "code",
   "execution_count": 29,
   "id": "332c210c",
   "metadata": {},
   "outputs": [
    {
     "name": "stdout",
     "output_type": "stream",
     "text": [
      "List of words: ['Hello,', 'this', 'is', 'a', 'sample', 'sentence.']\n"
     ]
    }
   ],
   "source": [
    "# 43\n",
    "my_string = \"Hello, this is a sample sentence.\"\n",
    "\n",
    "# Convert the string into a list of words\n",
    "word_list = my_string.split()\n",
    "\n",
    "# Print the list of words\n",
    "print(\"List of words:\", word_list)"
   ]
  },
  {
   "cell_type": "code",
   "execution_count": 30,
   "id": "352805b4",
   "metadata": {},
   "outputs": [
    {
     "name": "stdout",
     "output_type": "stream",
     "text": [
      "[1, 3, 6, 10, 15]\n"
     ]
    }
   ],
   "source": [
    "# 49\n",
    "def tri_n(n):\n",
    "    if n < 1:\n",
    "        return []\n",
    "\n",
    "    tri = [i * (i + 1) // 2 for i in range(1, n + 1)]\n",
    "    return tri\n",
    "n = 5\n",
    "t = tri_n(n)\n",
    "print(t)"
   ]
  },
  {
   "cell_type": "code",
   "execution_count": 31,
   "id": "65ec6ae9",
   "metadata": {},
   "outputs": [
    {
     "name": "stdout",
     "output_type": "stream",
     "text": [
      "Elements swapped: [1, 4, 3, 2, 5]\n"
     ]
    }
   ],
   "source": [
    "# 50\n",
    "def swap(lst, index1, index2):\n",
    "    if 0 <= index1 < len(lst) and 0 <= index2 < len(lst):\n",
    "        lst[index1], lst[index2] = lst[index2], lst[index1]\n",
    "        return True \n",
    "    else:\n",
    "        return False\n",
    "my_list = [1, 2, 3, 4, 5]\n",
    "index1 = 1\n",
    "index2 = 3\n",
    "if swap(my_list, index1, index2):\n",
    "    print(\"Elements swapped:\", my_list)\n",
    "else:\n",
    "    print(\"Invalid indices. Swap not performed.\")"
   ]
  },
  {
   "cell_type": "markdown",
   "id": "2924f284",
   "metadata": {},
   "source": [
    "Tuple Based Practice Problem :"
   ]
  },
  {
   "cell_type": "code",
   "execution_count": 4,
   "id": "4d5025a3",
   "metadata": {},
   "outputs": [
    {
     "data": {
      "text/plain": [
       "(1, 2, 3, 4, 5)"
      ]
     },
     "execution_count": 4,
     "metadata": {},
     "output_type": "execute_result"
    }
   ],
   "source": [
    "# 1\n",
    "m = tuple(range(1, 6))\n",
    "m"
   ]
  },
  {
   "cell_type": "code",
   "execution_count": 5,
   "id": "b77ae406",
   "metadata": {},
   "outputs": [
    {
     "name": "stdout",
     "output_type": "stream",
     "text": [
      "The third element of the tuple is: 30\n"
     ]
    }
   ],
   "source": [
    "# 2\n",
    "my_tuple = (10, 20, 30, 40, 50)\n",
    "\n",
    "# Step 2: Access the third element (index 2) of the tuple\n",
    "third_element = my_tuple[2]\n",
    "\n",
    "# Step 3: Print the third element\n",
    "print(\"The third element of the tuple is:\", third_element)"
   ]
  },
  {
   "cell_type": "code",
   "execution_count": 6,
   "id": "5f9770db",
   "metadata": {},
   "outputs": [
    {
     "name": "stdout",
     "output_type": "stream",
     "text": [
      "The length of the tuple is: 5\n"
     ]
    }
   ],
   "source": [
    "# 3\n",
    "my_tuple = (10, 20, 30, 40, 50)\n",
    "\n",
    "# Step 2: Initialize a variable to count the elements\n",
    "count = 0\n",
    "\n",
    "# Step 3: Iterate through the tuple and increment the count for each element\n",
    "for _ in my_tuple:\n",
    "    count += 1\n",
    "\n",
    "# Step 4: Print the length of the tuple\n",
    "print(\"The length of the tuple is:\", count)"
   ]
  },
  {
   "cell_type": "code",
   "execution_count": 7,
   "id": "1c5ed38a",
   "metadata": {},
   "outputs": [
    {
     "name": "stdout",
     "output_type": "stream",
     "text": [
      "The element 20 appears 3 times in the tuple.\n"
     ]
    }
   ],
   "source": [
    "# 4\n",
    "my_tuple = (10, 20, 30, 20, 40, 50, 20)\n",
    "\n",
    "# Step 2: Choose the element to count occurrences of\n",
    "element_to_count = 20\n",
    "\n",
    "# Step 3: Initialize a variable to keep track of the count\n",
    "count = 0\n",
    "\n",
    "# Step 4: Iterate through the tuple and count occurrences of the chosen element\n",
    "for item in my_tuple:\n",
    "    if item == element_to_count:\n",
    "        count += 1\n",
    "\n",
    "# Step 5: Print the count of occurrences\n",
    "print(f\"The element {element_to_count} appears {count} times in the tuple.\")"
   ]
  },
  {
   "cell_type": "code",
   "execution_count": 8,
   "id": "fb79b5f3",
   "metadata": {},
   "outputs": [
    {
     "name": "stdout",
     "output_type": "stream",
     "text": [
      "1\n"
     ]
    }
   ],
   "source": [
    "# 5\n",
    "my_tuple = (10, 20, 30, 20, 40, 50, 20)\n",
    "print(my_tuple.index(20))"
   ]
  },
  {
   "cell_type": "code",
   "execution_count": 9,
   "id": "6657c1f6",
   "metadata": {},
   "outputs": [
    {
     "name": "stdout",
     "output_type": "stream",
     "text": [
      "30 exists in the tuple.\n"
     ]
    }
   ],
   "source": [
    "# 6\n",
    "my_tuple = (10, 20, 30, 40, 50)\n",
    "\n",
    "# Step 2: Choose the element to check for existence\n",
    "element_to_check = 30\n",
    "\n",
    "# Step 3: Check if the element exists in the tuple using the 'in' operator\n",
    "if element_to_check in my_tuple:\n",
    "    print(f\"{element_to_check} exists in the tuple.\")\n",
    "else:\n",
    "    print(f\"{element_to_check} does not exist in the tuple.\")"
   ]
  },
  {
   "cell_type": "code",
   "execution_count": 10,
   "id": "317a1a85",
   "metadata": {},
   "outputs": [
    {
     "name": "stdout",
     "output_type": "stream",
     "text": [
      "Tuple: (10, 20, 30, 40, 50)\n",
      "List: [10, 20, 30, 40, 50]\n"
     ]
    }
   ],
   "source": [
    "# 7\n",
    "my_tuple = (10, 20, 30, 40, 50)\n",
    "\n",
    "# Step 2: Convert the tuple to a list\n",
    "my_list = list(my_tuple)\n",
    "\n",
    "# Step 3: Print the resulting list\n",
    "print(\"Tuple:\", my_tuple)\n",
    "print(\"List:\", my_list)"
   ]
  },
  {
   "cell_type": "code",
   "execution_count": 11,
   "id": "caade989",
   "metadata": {},
   "outputs": [
    {
     "name": "stdout",
     "output_type": "stream",
     "text": [
      "var1: 10\n",
      "var2: 20\n",
      "var3: 30\n"
     ]
    }
   ],
   "source": [
    "# 8\n",
    "my_tuple = (10, 20, 30)\n",
    "\n",
    "# Step 2: Unpack the elements of the tuple into variables\n",
    "var1, var2, var3 = my_tuple\n",
    "\n",
    "# Step 3: Print the variables\n",
    "print(\"var1:\", var1)\n",
    "print(\"var2:\", var2)\n",
    "print(\"var3:\", var3)"
   ]
  },
  {
   "cell_type": "code",
   "execution_count": 12,
   "id": "60436f19",
   "metadata": {},
   "outputs": [
    {
     "name": "stdout",
     "output_type": "stream",
     "text": [
      "Tuple of even numbers: (2, 4, 6, 8, 10)\n"
     ]
    }
   ],
   "source": [
    "# 9\n",
    "even_numbers_list = [num for num in range(2, 11, 2)]  # Start from 2, step by 2, end at 10\n",
    "\n",
    "# Step 2: Convert the list to a tuple\n",
    "even_numbers_tuple = tuple(even_numbers_list)\n",
    "\n",
    "# Step 3: Print the resulting tuple\n",
    "print(\"Tuple of even numbers:\", even_numbers_tuple)"
   ]
  },
  {
   "cell_type": "markdown",
   "id": "7b9776ab",
   "metadata": {},
   "source": [
    "Set:"
   ]
  },
  {
   "cell_type": "code",
   "execution_count": 14,
   "id": "76277161",
   "metadata": {},
   "outputs": [
    {
     "name": "stdout",
     "output_type": "stream",
     "text": [
      "{0, 1}\n"
     ]
    }
   ],
   "source": [
    "def create_alternating_set(n):\n",
    "    # Initialize an empty set to store the alternating sequence.\n",
    "    alternating_set = set()\n",
    "\n",
    "    # Loop to generate alternating 1s and 0s.\n",
    "    for i in range(n):\n",
    "        # Alternate between adding 1 and 0 to the set based on whether i is even or odd.\n",
    "        if i % 2 == 0:\n",
    "            alternating_set.add(1)  # Add 1 if i is even.\n",
    "        else:\n",
    "            alternating_set.add(0)  # Add 0 if i is odd.\n",
    "\n",
    "    return alternating_set\n",
    "\n",
    "# Define the desired length of the alternating set.\n",
    "length_n = 10\n",
    "\n",
    "# Call the function to create the alternating set of length 'length_n'.\n",
    "result = create_alternating_set(length_n)\n",
    "\n",
    "# Print the resulting set.\n",
    "print(result)"
   ]
  },
  {
   "cell_type": "code",
   "execution_count": 15,
   "id": "a1c04bce",
   "metadata": {},
   "outputs": [
    {
     "name": "stdout",
     "output_type": "stream",
     "text": [
      "set2 is a subset of set1\n"
     ]
    }
   ],
   "source": [
    "set1 = {1, 2, 3, 4, 5}\n",
    "set2 = {3, 4}\n",
    "\n",
    "# Check if set2 is a subset of set1\n",
    "is_subset = set2.issubset(set1)\n",
    "\n",
    "# Print the result\n",
    "if is_subset:\n",
    "    print(\"set2 is a subset of set1\")\n",
    "else:\n",
    "    print(\"set2 is not a subset of set1\")"
   ]
  },
  {
   "cell_type": "code",
   "execution_count": 16,
   "id": "6eba930d",
   "metadata": {},
   "outputs": [
    {
     "name": "stdout",
     "output_type": "stream",
     "text": [
      "Enter the value of n: 4\n",
      "The set of the first 4 triangular numbers is: {1, 10, 3, 6}\n"
     ]
    }
   ],
   "source": [
    "def generate_triangular_numbers(n):\n",
    "    triangular_numbers = set()  # Create an empty set to store the triangular numbers\n",
    "    for i in range(1, n + 1):\n",
    "        triangular_number = i * (i + 1) // 2  # Calculate the ith triangular number using the formula\n",
    "        triangular_numbers.add(triangular_number)  # Add the calculated triangular number to the set\n",
    "    return triangular_numbers\n",
    "\n",
    "# Input the value of 'n'\n",
    "n = int(input(\"Enter the value of n: \"))\n",
    "\n",
    "# Call the function to generate the set of first 'n' triangular numbers\n",
    "triangular_set = generate_triangular_numbers(n)\n",
    "\n",
    "# Display the set of triangular numbers\n",
    "print(f\"The set of the first {n} triangular numbers is:\", triangular_set)"
   ]
  },
  {
   "cell_type": "code",
   "execution_count": null,
   "id": "72e68c59",
   "metadata": {},
   "outputs": [],
   "source": []
  }
 ],
 "metadata": {
  "kernelspec": {
   "display_name": "Python 3 (ipykernel)",
   "language": "python",
   "name": "python3"
  },
  "language_info": {
   "codemirror_mode": {
    "name": "ipython",
    "version": 3
   },
   "file_extension": ".py",
   "mimetype": "text/x-python",
   "name": "python",
   "nbconvert_exporter": "python",
   "pygments_lexer": "ipython3",
   "version": "3.10.6"
  }
 },
 "nbformat": 4,
 "nbformat_minor": 5
}
