{
 "cells": [
  {
   "cell_type": "markdown",
   "id": "551b246d",
   "metadata": {},
   "source": [
    "TOPIC: Python Basics Variable"
   ]
  },
  {
   "cell_type": "code",
   "execution_count": 1,
   "id": "b8fff315",
   "metadata": {},
   "outputs": [],
   "source": [
    "# Q1. Declare two variables, `x` and `y`, and assign them integer values. \n",
    "# Swap the values of these variables without using any temporary variable.\n",
    "\n",
    "\n",
    "# Code:\n",
    "x = 4\n",
    "y = 6"
   ]
  },
  {
   "cell_type": "code",
   "execution_count": 2,
   "id": "e4e48066",
   "metadata": {},
   "outputs": [],
   "source": [
    "x, y = y, x"
   ]
  },
  {
   "cell_type": "code",
   "execution_count": 3,
   "id": "198ab8ee",
   "metadata": {},
   "outputs": [
    {
     "name": "stdout",
     "output_type": "stream",
     "text": [
      "6 4\n"
     ]
    }
   ],
   "source": [
    "print(x, y)"
   ]
  },
  {
   "cell_type": "code",
   "execution_count": 7,
   "id": "1cf77218",
   "metadata": {},
   "outputs": [
    {
     "name": "stdout",
     "output_type": "stream",
     "text": [
      "Enter the length: 15\n",
      "Enter the width: 4\n",
      "Area of rectangle is: 60\n"
     ]
    }
   ],
   "source": [
    "# Q2. Create a program that calculates the area of a rectangle. Take the length and\n",
    "# width as inputs from the user and store them in variables. Calculate and\n",
    "# display the area.\n",
    "\n",
    "\n",
    "# Code:\n",
    "L = int(input(\"Enter the length: \"))\n",
    "W = int(input(\"Enter the width: \"))\n",
    "A = L*W\n",
    "print(\"Area of rectangle is:\",A)"
   ]
  },
  {
   "cell_type": "code",
   "execution_count": 10,
   "id": "29383cd9",
   "metadata": {},
   "outputs": [
    {
     "name": "stdout",
     "output_type": "stream",
     "text": [
      "Enter the temperature in Celsius: 50\n",
      "Temperature in Fahrenheit is: 122\n"
     ]
    }
   ],
   "source": [
    "# Q3. Write a Python program that converts temperatures from Celsius to\n",
    "# Fahrenheit. \n",
    "# Take the temperature in Celsius as input, store it in a variable,\n",
    "# convert it to Fahrenheit, and display the result.\n",
    "\n",
    "\n",
    "# Code:\n",
    "C = float(input(\"Enter the temperature in Celsius: \"))\n",
    "F = (C*1.8)+32\n",
    "print(\"Temperature in Fahrenheit is:\",int(F))"
   ]
  },
  {
   "cell_type": "markdown",
   "id": "9a91b083",
   "metadata": {},
   "source": [
    "TOPIC: String Based Questions"
   ]
  },
  {
   "cell_type": "code",
   "execution_count": 11,
   "id": "d096480d",
   "metadata": {},
   "outputs": [
    {
     "name": "stdout",
     "output_type": "stream",
     "text": [
      "Enter a string:PwSkills\n",
      "8\n"
     ]
    }
   ],
   "source": [
    "# Q1. Write a Python program that takes a string as input and prints the length of the string.\n",
    "\n",
    "\n",
    "# Code:\n",
    "a = input(\"Enter a string:\")\n",
    "print(len(a))"
   ]
  },
  {
   "cell_type": "code",
   "execution_count": 12,
   "id": "bde00b7f",
   "metadata": {},
   "outputs": [
    {
     "name": "stdout",
     "output_type": "stream",
     "text": [
      "Enter a sentence:Count number of vowels\n",
      "7\n"
     ]
    }
   ],
   "source": [
    "# Q2. Create a program that takes a sentence from the user and counts the number of vowels (a, e, i, o, u) in the string.\n",
    "\n",
    "\n",
    "# Code:\n",
    "s = input(\"Enter a sentence:\")\n",
    "v = 0\n",
    "for i in s:\n",
    "    if i.lower() in [\"a\", \"e\", \"i\", \"o\", \"u\"]:\n",
    "        v+=1\n",
    "print(v)"
   ]
  },
  {
   "cell_type": "code",
   "execution_count": 14,
   "id": "c91dad35",
   "metadata": {},
   "outputs": [
    {
     "name": "stdout",
     "output_type": "stream",
     "text": [
      "Enter a string: PWSkills\n",
      "Reverse of the string is: sllikSWP\n"
     ]
    }
   ],
   "source": [
    "# Q3. Given a string, reverse the order of characters using string slicing and print the reversed string.\n",
    "\n",
    "\n",
    "# Code:\n",
    "a = input(\"Enter a string: \")\n",
    "print(\"Reverse of the string is:\", a[::-1])"
   ]
  },
  {
   "cell_type": "code",
   "execution_count": 18,
   "id": "90b60aff",
   "metadata": {},
   "outputs": [
    {
     "name": "stdout",
     "output_type": "stream",
     "text": [
      "Enter a string:Refer\n",
      "True\n"
     ]
    }
   ],
   "source": [
    "# Q4. Write a program that takes a string as input and checks if it is a palindrome (reads the same forwards and backwards).\n",
    "\n",
    "\n",
    "# Code:\n",
    "a = input(\"Enter a string:\")\n",
    "print(a.lower()==a[::-1].lower())"
   ]
  },
  {
   "cell_type": "code",
   "execution_count": 20,
   "id": "46cfb0a2",
   "metadata": {},
   "outputs": [
    {
     "name": "stdout",
     "output_type": "stream",
     "text": [
      "Enter a string: string as input\n",
      "stringasinput\n"
     ]
    }
   ],
   "source": [
    "# Q5. Create a program that takes a string as input and removes all the spaces from it. \n",
    "# Print the modified string without spaces.\n",
    "\n",
    "\n",
    "# Code:\n",
    "a = input(\"Enter a string: \")\n",
    "print(\"\".join(a.split()))"
   ]
  },
  {
   "cell_type": "code",
   "execution_count": null,
   "id": "86bd9da5",
   "metadata": {},
   "outputs": [],
   "source": []
  }
 ],
 "metadata": {
  "kernelspec": {
   "display_name": "Python 3 (ipykernel)",
   "language": "python",
   "name": "python3"
  },
  "language_info": {
   "codemirror_mode": {
    "name": "ipython",
    "version": 3
   },
   "file_extension": ".py",
   "mimetype": "text/x-python",
   "name": "python",
   "nbconvert_exporter": "python",
   "pygments_lexer": "ipython3",
   "version": "3.10.6"
  }
 },
 "nbformat": 4,
 "nbformat_minor": 5
}
